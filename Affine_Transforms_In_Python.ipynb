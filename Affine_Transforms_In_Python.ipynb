{
  "nbformat": 4,
  "nbformat_minor": 0,
  "metadata": {
    "kernelspec": {
      "display_name": "Python 3",
      "language": "python",
      "name": "python3"
    },
    "language_info": {
      "codemirror_mode": {
        "name": "ipython",
        "version": 3
      },
      "file_extension": ".py",
      "mimetype": "text/x-python",
      "name": "python",
      "nbconvert_exporter": "python",
      "pygments_lexer": "ipython3",
      "version": "3.7.1"
    },
    "colab": {
      "name": "Affine Transforms In Python.ipynb",
      "provenance": [],
      "collapsed_sections": [],
      "include_colab_link": true
    }
  },
  "cells": [
    {
      "cell_type": "markdown",
      "metadata": {
        "id": "view-in-github",
        "colab_type": "text"
      },
      "source": [
        "<a href=\"https://colab.research.google.com/github/festigf/Affine-Transforms-In-Python/blob/main/Affine_Transforms_In_Python.ipynb\" target=\"_parent\"><img src=\"https://colab.research.google.com/assets/colab-badge.svg\" alt=\"Open In Colab\"/></a>"
      ]
    },
    {
      "cell_type": "code",
      "metadata": {
        "id": "cDadDX3yt29Q"
      },
      "source": [
        "letterR_url = \"https://www.google.com/url?sa=i&source=images&cd=&cad=rja&uact=8&ved=2ahUKEwim6rO0q9fgAhVKeKwKHThBAmAQjRx6BAgBEAU&url=https%3A%2F%2Fwww.typoland.cz%2Fen%2Fwooden-letters-black%2F313-wooden-letter-r-black.html&psig=AOvVaw3j1sPP23kUuim1n7lXLS-U&ust=1551199679589930\""
      ],
      "execution_count": 1,
      "outputs": []
    },
    {
      "cell_type": "markdown",
      "metadata": {
        "id": "WV6Rsan1yap7"
      },
      "source": [
        "# prova da colab"
      ]
    },
    {
      "cell_type": "markdown",
      "metadata": {
        "id": "V07qjfhmt29Y"
      },
      "source": [
        "### Affine Image Transformations in Python with Numpy, Pillow and OpenCV\n",
        "\n",
        "In this article I will be describing what it means to apply an affine transformation to an image and how to do it in Python. First I will demonstrate the low level operations in Numpy to give a detailed geometric implementation. Then I will segue those into a more practical usage of the Python Pillow and OpenCV libraries. \n",
        "\n",
        "This article was written using a Jupyter notebook and the source can be found at my [GitHub repo](https://github.com/amcquistan/affine-image-transforms-python) so, please feel free to clone / fork it and experiment with the code.\n",
        "\n",
        "### What is an Affine Transformation\n",
        "\n",
        "According to [Wikipedia](https://en.wikipedia.org/wiki/Affine_transformation) an affine transformation is a functional mapping between two geometric (affine) spaces which preserve points, straight and parallel lines as well as ratios between points. All that mathy abstract wording boils down is a loosely speaking linear transformation that results in, at least in the context of image processing, one or more manipulations like rotating, flipping, scaling or shearing by applying a transformation matrix.\n",
        "\n",
        "One good thing is that since this is essentially a 2D geometric operation we can visualize it. Let me start off by giving a table of affine transformations that describe each type of geometric manipulation."
      ]
    },
    {
      "cell_type": "markdown",
      "metadata": {
        "id": "e5s1HX4wt29Y"
      },
      "source": [
        "<table>\n",
        "    <thead>\n",
        "        <tr>\n",
        "            <th>Transformation Type</th>\n",
        "            <th>Transformation Matrix</th>\n",
        "            <th>Pixel Mapping Equation</th>\n",
        "        </tr>\n",
        "    </thead>\n",
        "    <tbody>\n",
        "        <tr>\n",
        "            <td>Identity</td>\n",
        "            <td>\n",
        "            $$\n",
        "                \\begin{bmatrix}\n",
        "                1 & 0 & 0 \\\\ \n",
        "                0 & 1 & 0 \\\\ \n",
        "                0 & 0 & 1 \n",
        "                \\end{bmatrix}\n",
        "            $$\n",
        "            </td>\n",
        "            <td>\n",
        "                $$x^{'} = x$$ <br> $$y^{'} = y$$\n",
        "            </td>\n",
        "        </tr>\n",
        "        <tr>\n",
        "            <td>Scaling</td>\n",
        "            <td>\n",
        "            $$\n",
        "                \\begin{bmatrix}\n",
        "                c_{x} & 0 & 0 \\\\ \n",
        "                0 & c_{y} & 0 \\\\ \n",
        "                0 & 0 & 1 \n",
        "                \\end{bmatrix}\n",
        "            $$\n",
        "            </td>\n",
        "            <td>\n",
        "                $$x^{'} = c_{x} * x$$ <br> $$y^{'} = c_{y} * y$$\n",
        "            </td>\n",
        "        </tr>\n",
        "        <tr>\n",
        "            <td>Rotation*</td>\n",
        "            <td>\n",
        "            $$\n",
        "                \\begin{bmatrix}\n",
        "                cos \\Theta & sin \\Theta & 0 \\\\ \n",
        "                -sin \\Theta & cos \\Theta & 0 \\\\ \n",
        "                0 & 0 & 1 \n",
        "                \\end{bmatrix}\n",
        "            $$\n",
        "            </td>\n",
        "            <td>\n",
        "                $$x^{'} = x * cos \\Theta - y * sin \\Theta$$ <br> $$y^{'} = x * cos \\Theta + y * sin \\Theta$$\n",
        "            </td>\n",
        "        </tr>\n",
        "        <tr>\n",
        "            <td>Translation</td>\n",
        "            <td>\n",
        "            $$\n",
        "                \\begin{bmatrix}\n",
        "                1 & 0 & t_{x} \\\\ \n",
        "                0 & 1 & t_{y} \\\\ \n",
        "                0 & 0 & 1 \n",
        "                \\end{bmatrix}\n",
        "            $$\n",
        "            </td>\n",
        "            <td>\n",
        "                $$x^{'} = x + t_{x}$$ <br> $$y^{'} = y + t_{y}$$\n",
        "            </td>\n",
        "        </tr>\n",
        "        <tr>\n",
        "            <td>Horizontal Shear</td>\n",
        "            <td>\n",
        "            $$\n",
        "                \\begin{bmatrix}\n",
        "                1 & s_{h} & 0 \\\\ \n",
        "                0 & 1 & 0 \\\\ \n",
        "                0 & 0 & 1 \n",
        "                \\end{bmatrix}\n",
        "            $$\n",
        "            </td>\n",
        "            <td>\n",
        "                $$x^{'} = x + s_{v} * y$$ <br> $$y^{'} = y$$\n",
        "            </td>\n",
        "        </tr>\n",
        "        <tr>\n",
        "            <td>Vertical Shear</td>\n",
        "            <td>\n",
        "            $$\n",
        "                \\begin{bmatrix}\n",
        "                1 & 0 & 0 \\\\ \n",
        "                s_{v} & 1 & 0 \\\\ \n",
        "                0 & 0 & 1 \n",
        "                \\end{bmatrix}\n",
        "            $$\n",
        "            </td>\n",
        "            <td>\n",
        "                $$x^{'} = x$$ <br> $$y^{'} = x * s_{h} + y$$\n",
        "            </td>\n",
        "        </tr>\n",
        "    </tbody>\n",
        "</table>\n",
        "\n",
        "\\* affine transformation uses angle of rotation that is clockwise which is in contrast to the typical geometry unit circle of angles being measured in counter clockwise rotation with 0 starting from the positive X axis, therefore you will see that the negative of the angle is often applied.\n",
        "\n",
        "' notation here is just referring to the transformed output coordinate of x or y not the calculus notation for a derivative"
      ]
    },
    {
      "cell_type": "markdown",
      "metadata": {
        "id": "c3o_jk2st29Z"
      },
      "source": [
        "For means of simple demonstration I will apply a couple transformations to manipulate the x and y coordinates of the following points which have three dimensional components of x, y and ascii character index similar to the way an image pixel has 3 dimensional components of x, y, and frequency (or intensity). \n",
        "\n",
        "a = (0, 1, 0)\n",
        "b = (1, 0, 1)\n",
        "c = (0, -1, 2)\n",
        "d = (-1, 0, 3)\n",
        "\n",
        "The transformations for this example will be Scaling by 2 in all directions and rotation of 90 degrees clockwise. First I will perform the transformations individually to show the direct effect each has on moving the points around then I will combine the transformations and apply them in one action.\n",
        "\n",
        "To begin I want to build a Numpy array (some may call this a matrix) with each row representing the point where the first column is the x, the second the y, and the third is the index of its letter in the ascii character set similar to the table shown below. Next I use [Matplotlib](https://matplotlib.org/) to plot the points (after applying the unchanging Identity transformation) to give a baseline visual of where we stand.\n",
        "\n",
        "<table>\n",
        "    <thead>\n",
        "        <tr><th>Point</th><th>x (row)</th><th>y (column)</th><th>ascii index</th></tr>\n",
        "    </thead>\n",
        "    <tbody>\n",
        "        <tr><td>a</td><td>0</td><td>1</td><td>0</td></tr>\n",
        "        <tr><td>b</td><td>1</td><td>0</td><td>1</td></tr>\n",
        "        <tr><td>c</td><td>0</td><td>-1</td><td>2</td></tr>\n",
        "        <tr><td>d</td><td>-1</td><td>0</td><td>3</td></tr>\n",
        "    </tbody>\n",
        "</table>"
      ]
    },
    {
      "cell_type": "code",
      "metadata": {
        "id": "VKWT-qS2t29a"
      },
      "source": [
        "import matplotlib.pyplot as plt\n",
        "import numpy as np\n",
        "import string\n",
        "\n",
        "# points a, b and, c\n",
        "a, b, c, d = (0, 1, 0), (1, 0, 1), (0, -1, 2), (-1, 0, 3)\n",
        "\n",
        "# matrix with row vectors of points\n",
        "A = np.array([a, b, c, d])\n",
        "\n",
        "# 3x3 Identity transformation matrix\n",
        "I = np.eye(3)"
      ],
      "execution_count": 2,
      "outputs": []
    },
    {
      "cell_type": "code",
      "metadata": {
        "colab": {
          "base_uri": "https://localhost:8080/",
          "height": 269
        },
        "id": "Z5FQ2XuMt29b",
        "outputId": "b67fa0bb-6fa3-47ee-a0de-018312564a1f"
      },
      "source": [
        "color_lut = 'rgbc'\n",
        "fig = plt.figure()\n",
        "ax = plt.gca()\n",
        "xs = []\n",
        "ys = []\n",
        "for row in A:\n",
        "    output_row = I @ row\n",
        "    x, y, i = output_row\n",
        "    xs.append(x)\n",
        "    ys.append(y)\n",
        "    i = int(i) # convert float to int for indexing\n",
        "    c = color_lut[i]\n",
        "    plt.scatter(x, y, color=c)\n",
        "    plt.text(x + 0.15, y, f\"{string.ascii_letters[i]}\")\n",
        "xs.append(xs[0])\n",
        "ys.append(ys[0])\n",
        "plt.plot(xs, ys, color=\"gray\", linestyle='dotted')\n",
        "ax.set_xticks(np.arange(-2.5, 3, 0.5))\n",
        "ax.set_yticks(np.arange(-2.5, 3, 0.5))\n",
        "plt.grid()\n",
        "plt.show()"
      ],
      "execution_count": 3,
      "outputs": [
        {
          "output_type": "display_data",
          "data": {
            "image/png": "[encoded data removed]",
            "text/plain": [
              "<Figure size 432x288 with 1 Axes>"
            ]
          },
          "metadata": {
            "tags": [],
            "needs_background": "light"
          }
        }
      ]
    },
    {
      "cell_type": "markdown",
      "metadata": {
        "id": "TaAddV7rt29c"
      },
      "source": [
        "The three points a, b, and c plotted on a grid after applying the Identity transformation to them via a simple vector matrix dot product leaving them unchanged.  \n",
        "\n",
        "I will now move on to creating a scaling transformation matrix T_s (shown below) which scales the placement of the points in all directions.\n",
        "\n",
        "$$\n",
        "                T_s = \\begin{bmatrix}\n",
        "                2 & 0 & 0 \\\\ \n",
        "                0 & 2 & 0 \\\\ \n",
        "                0 & 0 & 1 \n",
        "                \\end{bmatrix}\n",
        "$$\n",
        "\n",
        "Now I will move on to plotting the transformed points similar to what was done with the original points unaltered by the Identity transformation but, this time I will apply the scaling transformation matrix defined above. For a better visualization, I plot a dotted line connecting the points."
      ]
    },
    {
      "cell_type": "code",
      "metadata": {
        "colab": {
          "base_uri": "https://localhost:8080/",
          "height": 269
        },
        "id": "Z1oYwOast29d",
        "outputId": "80e5aded-a93e-4484-faf7-f2c4f7dd0cc0"
      },
      "source": [
        "# create the scaling transformation matrix\n",
        "T_s = np.array([[2, 0, 0], [0, 2, 0], [0, 0, 1]])\n",
        "\n",
        "fig = plt.figure()\n",
        "ax = plt.gca()\n",
        "xs_s = []\n",
        "ys_s = []\n",
        "for row in A:\n",
        "    output_row = T_s @ row\n",
        "    x, y, i = row\n",
        "    x_s, y_s, i_s = output_row\n",
        "    xs_s.append(x_s)\n",
        "    ys_s.append(y_s)\n",
        "    i, i_s = int(i), int(i_s) # convert float to int for indexing\n",
        "    c, c_s = color_lut[i], color_lut[i_s] # these are the same but, its good to be explicit\n",
        "    plt.scatter(x, y, color=c)\n",
        "    plt.scatter(x_s, y_s, color=c_s)\n",
        "    plt.text(x + 0.15, y, f\"{string.ascii_letters[int(i)]}\")\n",
        "    plt.text(x_s + 0.15, y_s, f\"{string.ascii_letters[int(i_s)]}'\")\n",
        "\n",
        "xs_s.append(xs_s[0])\n",
        "ys_s.append(ys_s[0])\n",
        "plt.plot(xs, ys, color=\"gray\", linestyle='dotted')\n",
        "plt.plot(xs_s, ys_s, color=\"gray\", linestyle='dotted')\n",
        "ax.set_xticks(np.arange(-2.5, 3, 0.5))\n",
        "ax.set_yticks(np.arange(-2.5, 3, 0.5))\n",
        "plt.grid()\n",
        "plt.show()"
      ],
      "execution_count": 4,
      "outputs": [
        {
          "output_type": "display_data",
          "data": {
            "image/png": "[encoded data removed]",
            "text/plain": [
              "<Figure size 432x288 with 1 Axes>"
            ]
          },
          "metadata": {
            "tags": [],
            "needs_background": "light"
          }
        }
      ]
    },
    {
      "cell_type": "markdown",
      "metadata": {
        "id": "3hfj_7CLt29d"
      },
      "source": [
        "From the plot above it should be very clear that the x and y dimensions were simply scaled up by a factor of two while the third dimension responsible for the ascii letter index was left unchanged.  In fact, those familiar with matrix algebra will have noticed that for all of the affine transformations listed in the first table the value represented in the third dimension is always left un altered as indicated by the all zeros and lone one value in the third dimension index of the last column. \n",
        "\n",
        "Now let me describe how to interpret the rotation transformation. I will start by solving the two trigonometric functions for the desired angle of rotation of 90 degrees then I simply plug them into the rotation transformation matrix listed in the previous table. \n",
        "\n",
        "$$\n",
        "sin (90^{o}) = 1\n",
        "$$\n",
        "\n",
        "$$\n",
        "cos (90^{o}) = 0\n",
        "$$\n",
        "\n",
        "$$\n",
        "                T_s = \\begin{bmatrix}\n",
        "                0 & 1 & 0 \\\\ \n",
        "                -1 & 0 & 0 \\\\ \n",
        "                0 & 0 & 1 \n",
        "                \\end{bmatrix}\n",
        "$$\n",
        "\n",
        "Now all I need to do is apply the same logic to transform and plot the points like so."
      ]
    },
    {
      "cell_type": "code",
      "metadata": {
        "colab": {
          "base_uri": "https://localhost:8080/",
          "height": 269
        },
        "id": "bN8yZgzgt29d",
        "outputId": "d05aa949-cc85-4967-be80-fb90dbe9e185"
      },
      "source": [
        "# create the rotation transformation matrix\n",
        "T_r = np.array([[0, 1, 0], [-1, 0, 0], [0, 0, 1]])\n",
        "\n",
        "fig = plt.figure()\n",
        "ax = plt.gca()\n",
        "for row in A:\n",
        "    output_row = T_r @ row \n",
        "    x_r, y_r, i_r = output_row\n",
        "    i_r = int(i_r) # convert float to int for indexing\n",
        "    c_r = color_lut[i_r] # these are the same but, its good to be explicit\n",
        "    letter_r = string.ascii_letters[i_r]\n",
        "    plt.scatter(x_r, y_r, color=c_r)\n",
        "    plt.text(x_r + 0.15, y_r, f\"{letter_r}'\")\n",
        "\n",
        "plt.plot(xs, ys, color=\"gray\", linestyle='dotted')\n",
        "ax.set_xticks(np.arange(-2.5, 3, 0.5))\n",
        "ax.set_yticks(np.arange(-2.5, 3, 0.5))\n",
        "plt.grid()\n",
        "plt.show()"
      ],
      "execution_count": 5,
      "outputs": [
        {
          "output_type": "display_data",
          "data": {
            "image/png": "[encoded data removed]",
            "text/plain": [
              "<Figure size 432x288 with 1 Axes>"
            ]
          },
          "metadata": {
            "tags": [],
            "needs_background": "light"
          }
        }
      ]
    },
    {
      "cell_type": "markdown",
      "metadata": {
        "id": "4AVJBOrjt29e"
      },
      "source": [
        "Hopefully you can tell from the plot that all points were rotated 90 degrees around an axis of rotation at the origin.\n",
        "\n",
        "The neat thing about affine transformations being essentially linear transformations is that you can combine the transformations and apply them in one step.  To demonstrate this I will apply the dot product (matrix multiplication) of my two transformation matrices like. \n",
        "\n",
        "$$\n",
        "                T_{comb} = \\begin{bmatrix}\n",
        "                0 & 1 & 0 \\\\ \n",
        "                -1 & 0 & 0 \\\\ \n",
        "                0 & 0 & 1 \n",
        "                \\end{bmatrix} * \n",
        "                \\begin{bmatrix}\n",
        "                2 & 0 & 0 \\\\ \n",
        "                0 & 2 & 0 \\\\ \n",
        "                0 & 0 & 1 \n",
        "                \\end{bmatrix} = \n",
        "                \\begin{bmatrix}\n",
        "                0 & 2 & 0 \\\\ \n",
        "                -2 & 0 & 0 \\\\ \n",
        "                0 & 0 & 1 \n",
        "                \\end{bmatrix}\n",
        "$$\n",
        "\n",
        "\n",
        "Now I can apply this combined transformation matrix to the points and replot them to show a combination of scaling by two and rotation by 90 degrees.\n",
        "\n"
      ]
    },
    {
      "cell_type": "code",
      "metadata": {
        "colab": {
          "base_uri": "https://localhost:8080/",
          "height": 269
        },
        "id": "v4pQaUGSt29e",
        "outputId": "af2e0456-b937-489b-f6cb-415518768bd0"
      },
      "source": [
        "# create combined tranformation matrix\n",
        "T = T_s @ T_r\n",
        "\n",
        "fig = plt.figure()\n",
        "ax = plt.gca()\n",
        "\n",
        "xs_comb = []\n",
        "ys_comb = []\n",
        "for row in A:\n",
        "    output_row = T @ row\n",
        "    x, y, i = row\n",
        "    x_comb, y_comb, i_comb = output_row\n",
        "    xs_comb.append(x_comb)\n",
        "    ys_comb.append(y_comb)\n",
        "    i, i_comb = int(i), int(i_comb) # convert float to int for indexing\n",
        "    c, c_comb = color_lut[i], color_lut[i_comb] # these are the same but, its good to be explicit\n",
        "    letter, letter_comb = string.ascii_letters[i], string.ascii_letters[i_comb]\n",
        "    plt.scatter(x, y, color=c)\n",
        "    plt.scatter(x_comb, y_comb, color=c_comb)\n",
        "    plt.text(x + 0.15 , y, f\"{letter}\")\n",
        "    plt.text(x_comb + 0.15, y_comb, f\"{letter_comb}'\")\n",
        "xs_comb.append(xs_comb[0])\n",
        "ys_comb.append(ys_comb[0])\n",
        "plt.plot(xs, ys, color=\"gray\", linestyle='dotted')\n",
        "plt.plot(xs_comb, ys_comb, color=\"gray\", linestyle='dotted')\n",
        "ax.set_xticks(np.arange(-2.5, 3, 0.5))\n",
        "ax.set_yticks(np.arange(-2.5, 3, 0.5))\n",
        "plt.grid()\n",
        "plt.show()"
      ],
      "execution_count": 6,
      "outputs": [
        {
          "output_type": "display_data",
          "data": {
            "image/png": "[encoded data removed]",
            "text/plain": [
              "<Figure size 432x288 with 1 Axes>"
            ]
          },
          "metadata": {
            "tags": [],
            "needs_background": "light"
          }
        }
      ]
    },
    {
      "cell_type": "markdown",
      "metadata": {
        "id": "tLYxlzd1t29f"
      },
      "source": [
        "### Working with an Image\n",
        "\n",
        "By I now hope that I've been able to build up some intuition about how affine transformations are used to simply move around points in 2D space so, with that out of the way I'd like to start working with some real image data to give a more concrete demonstration of how all this works. This also allows me to cover another important topic of affine transformations which deals with the third dimension. The third dimension of data in an image represents the actual pixel value or sometimes referred to as the intensity domain where as the physical 2D location of the pixels in the other two dimensions are referred to as the spatial domain.\n",
        "\n",
        "To begin I will read in and display an image using matplotlib which is simply a large capital letter R."
      ]
    },
    {
      "cell_type": "code",
      "metadata": {
        "colab": {
          "base_uri": "https://localhost:8080/",
          "height": 320
        },
        "id": "jcm5ls0Lt29f",
        "outputId": "14322a20-941f-4db6-bd1f-a17a3a26457a"
      },
      "source": [
        "img = plt.imread('letterR.jpg')\n",
        "img.shape"
      ],
      "execution_count": 7,
      "outputs": [
        {
          "output_type": "error",
          "ename": "FileNotFoundError",
          "evalue": "ignored",
          "traceback": [
            "\u001b[0;31m---------------------------------------------------------------------------\u001b[0m",
            "\u001b[0;31mFileNotFoundError\u001b[0m                         Traceback (most recent call last)",
            "\u001b[0;32m<ipython-input-7-c75b3aaebc14>\u001b[0m in \u001b[0;36m<module>\u001b[0;34m()\u001b[0m\n\u001b[0;32m----> 1\u001b[0;31m \u001b[0mimg\u001b[0m \u001b[0;34m=\u001b[0m \u001b[0mplt\u001b[0m\u001b[0;34m.\u001b[0m\u001b[0mimread\u001b[0m\u001b[0;34m(\u001b[0m\u001b[0;34m'letterR.jpg'\u001b[0m\u001b[0;34m)\u001b[0m\u001b[0;34m\u001b[0m\u001b[0;34m\u001b[0m\u001b[0m\n\u001b[0m\u001b[1;32m      2\u001b[0m \u001b[0mimg\u001b[0m\u001b[0;34m.\u001b[0m\u001b[0mshape\u001b[0m\u001b[0;34m\u001b[0m\u001b[0;34m\u001b[0m\u001b[0m\n",
            "\u001b[0;32m/usr/local/lib/python3.6/dist-packages/matplotlib/pyplot.py\u001b[0m in \u001b[0;36mimread\u001b[0;34m(fname, format)\u001b[0m\n\u001b[1;32m   2059\u001b[0m \u001b[0;34m@\u001b[0m\u001b[0mdocstring\u001b[0m\u001b[0;34m.\u001b[0m\u001b[0mcopy\u001b[0m\u001b[0;34m(\u001b[0m\u001b[0mmatplotlib\u001b[0m\u001b[0;34m.\u001b[0m\u001b[0mimage\u001b[0m\u001b[0;34m.\u001b[0m\u001b[0mimread\u001b[0m\u001b[0;34m)\u001b[0m\u001b[0;34m\u001b[0m\u001b[0;34m\u001b[0m\u001b[0m\n\u001b[1;32m   2060\u001b[0m \u001b[0;32mdef\u001b[0m \u001b[0mimread\u001b[0m\u001b[0;34m(\u001b[0m\u001b[0mfname\u001b[0m\u001b[0;34m,\u001b[0m \u001b[0mformat\u001b[0m\u001b[0;34m=\u001b[0m\u001b[0;32mNone\u001b[0m\u001b[0;34m)\u001b[0m\u001b[0;34m:\u001b[0m\u001b[0;34m\u001b[0m\u001b[0;34m\u001b[0m\u001b[0m\n\u001b[0;32m-> 2061\u001b[0;31m     \u001b[0;32mreturn\u001b[0m \u001b[0mmatplotlib\u001b[0m\u001b[0;34m.\u001b[0m\u001b[0mimage\u001b[0m\u001b[0;34m.\u001b[0m\u001b[0mimread\u001b[0m\u001b[0;34m(\u001b[0m\u001b[0mfname\u001b[0m\u001b[0;34m,\u001b[0m \u001b[0mformat\u001b[0m\u001b[0;34m)\u001b[0m\u001b[0;34m\u001b[0m\u001b[0;34m\u001b[0m\u001b[0m\n\u001b[0m\u001b[1;32m   2062\u001b[0m \u001b[0;34m\u001b[0m\u001b[0m\n\u001b[1;32m   2063\u001b[0m \u001b[0;34m\u001b[0m\u001b[0m\n",
            "\u001b[0;32m/usr/local/lib/python3.6/dist-packages/matplotlib/image.py\u001b[0m in \u001b[0;36mimread\u001b[0;34m(fname, format)\u001b[0m\n\u001b[1;32m   1462\u001b[0m             raise ValueError('Only know how to handle PNG; with Pillow '\n\u001b[1;32m   1463\u001b[0m                              'installed, Matplotlib can handle more images')\n\u001b[0;32m-> 1464\u001b[0;31m         \u001b[0;32mwith\u001b[0m \u001b[0mImage\u001b[0m\u001b[0;34m.\u001b[0m\u001b[0mopen\u001b[0m\u001b[0;34m(\u001b[0m\u001b[0mfname\u001b[0m\u001b[0;34m)\u001b[0m \u001b[0;32mas\u001b[0m \u001b[0mimage\u001b[0m\u001b[0;34m:\u001b[0m\u001b[0;34m\u001b[0m\u001b[0;34m\u001b[0m\u001b[0m\n\u001b[0m\u001b[1;32m   1465\u001b[0m             \u001b[0;32mreturn\u001b[0m \u001b[0mpil_to_array\u001b[0m\u001b[0;34m(\u001b[0m\u001b[0mimage\u001b[0m\u001b[0;34m)\u001b[0m\u001b[0;34m\u001b[0m\u001b[0;34m\u001b[0m\u001b[0m\n\u001b[1;32m   1466\u001b[0m     \u001b[0;32mfrom\u001b[0m \u001b[0mmatplotlib\u001b[0m \u001b[0;32mimport\u001b[0m \u001b[0m_png\u001b[0m\u001b[0;34m\u001b[0m\u001b[0;34m\u001b[0m\u001b[0m\n",
            "\u001b[0;32m/usr/local/lib/python3.6/dist-packages/PIL/Image.py\u001b[0m in \u001b[0;36mopen\u001b[0;34m(fp, mode)\u001b[0m\n\u001b[1;32m   2807\u001b[0m \u001b[0;34m\u001b[0m\u001b[0m\n\u001b[1;32m   2808\u001b[0m     \u001b[0;32mif\u001b[0m \u001b[0mfilename\u001b[0m\u001b[0;34m:\u001b[0m\u001b[0;34m\u001b[0m\u001b[0;34m\u001b[0m\u001b[0m\n\u001b[0;32m-> 2809\u001b[0;31m         \u001b[0mfp\u001b[0m \u001b[0;34m=\u001b[0m \u001b[0mbuiltins\u001b[0m\u001b[0;34m.\u001b[0m\u001b[0mopen\u001b[0m\u001b[0;34m(\u001b[0m\u001b[0mfilename\u001b[0m\u001b[0;34m,\u001b[0m \u001b[0;34m\"rb\"\u001b[0m\u001b[0;34m)\u001b[0m\u001b[0;34m\u001b[0m\u001b[0;34m\u001b[0m\u001b[0m\n\u001b[0m\u001b[1;32m   2810\u001b[0m         \u001b[0mexclusive_fp\u001b[0m \u001b[0;34m=\u001b[0m \u001b[0;32mTrue\u001b[0m\u001b[0;34m\u001b[0m\u001b[0;34m\u001b[0m\u001b[0m\n\u001b[1;32m   2811\u001b[0m \u001b[0;34m\u001b[0m\u001b[0m\n",
            "\u001b[0;31mFileNotFoundError\u001b[0m: [Errno 2] No such file or directory: 'letterR.jpg'"
          ]
        }
      ]
    },
    {
      "cell_type": "markdown",
      "metadata": {
        "id": "KTty7G3ht29f"
      },
      "source": [
        "Using the `imread(...)` method I am able to read in the JPG image representing the capital letter R into a numpy ndarray. I then display the dimensions of the array which are 1000 rows by 1000 columns together making up 1,000,000 pixels locations in the spatial domain. The individual pixel data is then in the form of an array of 4 unsigned integers representing a red, green, blue and alpha channel (or sample) that together provide the intensity data of each pixel."
      ]
    },
    {
      "cell_type": "code",
      "metadata": {
        "id": "l34RfAojt29g"
      },
      "source": [
        "plt.figure(figsize=(5, 5))\n",
        "plt.imshow(img)"
      ],
      "execution_count": null,
      "outputs": []
    },
    {
      "cell_type": "markdown",
      "metadata": {
        "id": "pyW5VeRMt29g"
      },
      "source": [
        "Next I would like to apply the previous scale and rotation to the spatial domain of the image data thus transforming the pixel locations similar to what I demonstrated earlier with the points data.  However, I need to take a slightly different approach because the image data is organized in a different way than that of the rows of data points I worked with earlier.  With the image data I need to map the indices for each pixel of the input data to the transformed output indices using the transformation matrix T defined earlier. "
      ]
    },
    {
      "cell_type": "code",
      "metadata": {
        "id": "koit_saIt29g"
      },
      "source": [
        "# 2x scaling requires a tranformation image array 2x the original image\n",
        "img_transformed = np.empty((2000, 2000, 4), dtype=np.uint8)\n",
        "for i, row in enumerate(img):\n",
        "    for j, col in enumerate(row):\n",
        "        pixel_data = img[i, j, :]\n",
        "        input_coords = np.array([i, j, 1])\n",
        "        i_out, j_out, _ = T @ input_coords\n",
        "        img_transformed[i_out, j_out, :] = pixel_data\n",
        "\n",
        "plt.figure(figsize=(5, 5))\n",
        "plt.imshow(img_transformed)"
      ],
      "execution_count": null,
      "outputs": []
    },
    {
      "cell_type": "markdown",
      "metadata": {
        "id": "7ttxl81it29g"
      },
      "source": [
        "Plotting the image after applying the transformation clearly shows that the original image has been rotated 90 degrees clockwise and scaled up 2X. However, the result is now obviously diminished as you can easily see discontinuity in the pixel intensities.  \n",
        "\n",
        "To understand the reason for this I will again utilize a simple grid plot for demonstration. Consider a plot of 4 squares in a 2x2 grid similar to the spatial domain of a 2x2 image."
      ]
    },
    {
      "cell_type": "code",
      "metadata": {
        "id": "GzwOD9CDt29h"
      },
      "source": [
        "def plot_box(plt, x0, y0, txt, w=1, h=1):\n",
        "    plt.scatter(x0, y0)\n",
        "    plt.scatter(x0, y0 + h)\n",
        "    plt.scatter(x0 + w, y0 + h)\n",
        "    plt.scatter(x0 + w, y0)\n",
        "    plt.plot([x0, x0, x0 + w, x0 + w, x0], [y0, y0 + h, y0 + h, y0, y0], color=\"gray\", linestyle='dotted')\n",
        "    plt.text(x0 + (.33 * w), y0 + (.5 * h), txt)\n",
        "\n",
        "#             x0, y0, letter\n",
        "a = np.array((0,  1,  0))\n",
        "b = np.array((1,  1,  1))\n",
        "c = np.array((0,  0,  2))\n",
        "d = np.array((1,  0,  3))\n",
        "\n",
        "A = np.array([a, b, c, d])\n",
        "fig = plt.figure()\n",
        "ax = plt.gca()\n",
        "for pt in A: \n",
        "    x0, y0, i = I @ pt\n",
        "    x0, y0, i = int(x0), int(y0), int(i)\n",
        "    plot_box(plt, x0, y0, f\"{string.ascii_letters[int(i)]} ({x0}, {y0})\")\n",
        "\n",
        "ax.set_xticks(np.arange(-1, 5, 1))\n",
        "ax.set_yticks(np.arange(-1, 5, 1))\n",
        "plt.grid()\n",
        "plt.show()"
      ],
      "execution_count": null,
      "outputs": []
    },
    {
      "cell_type": "markdown",
      "metadata": {
        "id": "HuB4EBuzt29h"
      },
      "source": [
        "Now watch what happens when I apply a 2X scaling transformation as depicted below. Recall that:\n",
        "\n",
        "$$\n",
        "        T_s = \\begin{bmatrix}\n",
        "                2 & 0 & 0 \\\\ \n",
        "                0 & 2 & 0 \\\\ \n",
        "                0 & 0 & 1 \n",
        "                \\end{bmatrix}\n",
        "$$\n",
        "\n",
        "You will notice that such a spatial transformation results in ... well gaps to put it in simple terms which I've made obvious by plotting question marks along with the coordinates.  The 2x2 grid is transformed into a 3x3 grid with the original squares being repositioned based of the linear transformation applied. This means that (0,0) * $T_s$ remains (0,0) because its properties as a 0 vector but, all others are scaled by two such as (1,1) * $T_s$ -> (2,2)."
      ]
    },
    {
      "cell_type": "code",
      "metadata": {
        "id": "6nlIgA7ht29h"
      },
      "source": [
        "fig = plt.figure()\n",
        "ax = plt.gca()\n",
        "for pt in A: \n",
        "    xt, yt, i = T_s @ pt\n",
        "    xt, yt, i = int(xt), int(yt), int(i)\n",
        "    plot_box(plt, xt, yt, f\"{string.ascii_letters[i]}' ({xt}, {yt})\")\n",
        "\n",
        "delta_w, delta_h = 0.33, 0.5\n",
        "plt.text(0 + delta_w, 1 + delta_h, \"? (0, 1)\")\n",
        "plt.text(1 + delta_w, 0 + delta_h, \"? (1, 0)\")\n",
        "plt.text(1 + delta_w, 1 + delta_h, \"? (1, 1)\")\n",
        "plt.text(1 + delta_w, 2 + delta_h, \"? (1, 2)\")\n",
        "plt.text(2 + delta_w, 1 + delta_h, \"? (2, 1)\")\n",
        "\n",
        "ax.set_xticks(np.arange(-1, 5, 1))\n",
        "ax.set_yticks(np.arange(-1, 5, 1))\n",
        "plt.grid()\n",
        "plt.show()"
      ],
      "execution_count": null,
      "outputs": []
    },
    {
      "cell_type": "markdown",
      "metadata": {
        "id": "7vTeSWbTt29h"
      },
      "source": [
        "The question remains of what to do with those gaps that have been introduced? An intuitive thought would be to simply look to the original image for the answer.  It just so happens that if we apply the inverse of the transformation to a coordinate in the output I will get the corresponding location of the original input.  \n",
        "\n",
        "In matrix operations such as backwards mapping looks like this.\n",
        "\n",
        "$$\n",
        "(x, y, 1) = T_s^{-1} * (x' y' 1)\n",
        "$$\n",
        "\n",
        "where x', y' are the coordinates int the above transformed 3x3 grid, specifically the a missing location such as (2, 1), $T_s^{-1}$ (actual values shown below) is the inverse of the 2x scaling matrix $T_s$ and x, y are the coordinates that are found in the original 2x2 grid.\n",
        "\n",
        "$$\n",
        "T_s^{-1} = \\begin{bmatrix}\n",
        " 1/2 & 0 & 0 \\\\ \n",
        " 0 & 1/2 & 0 \\\\\n",
        " 0 & 0 & 1\n",
        "\\end{bmatrix}^{-1}\n",
        "$$\n",
        "\n",
        "However, you will soon realize there is a bit of an issue that still needs sorted out due to the fact that each of the gap's coordinates map back to fractional values of the 2x2 coordinate system.  In the case of image data you can't really have a fraction of a pixel.  This will be clearer with an example of mapping the (2, 1) gap back to the original 2x2 space like so.\n",
        "\n",
        "$$\n",
        "T_s^{-1} * (2, 1, 1) = (1, 1/2, 1)\n",
        "$$\n",
        "\n",
        "In this case I will round the y' = 1/2 down to 0 and say that that maps to (1, 0). In the general sense this method of selecting a value in the original 2x2 grid to put into the gaps of the transformed 3x3 grid is known as interpolation, and in this specific example I am using a simplified version of the nearest neighbor interpolation method.\n",
        "\n",
        "Ok, now back to the image data.  It should be fairly clear what should be done now to fix those gaps in the scaled and rotated version of the letter R. I must develop an implementation of nearest neighbor interpolation based off the backwards mapping, using the inverse of the transformation matrix T, of the pixel coordinates in the transformed image to find either the exact match or nearest neighbor in the original image."
      ]
    },
    {
      "cell_type": "code",
      "metadata": {
        "id": "zR79AAr4t29i"
      },
      "source": [
        "T_inv = np.linalg.inv(T)\n",
        "\n",
        "# nearest neighbors interpolation\n",
        "def nearest_neighbors(i, j, M, T_inv):\n",
        "    x_max, y_max = M.shape[0] - 1, M.shape[1] - 1\n",
        "    x, y, _ = T_inv @ np.array([i, j, 1])\n",
        "    if np.floor(x) == x and np.floor(y) == y:\n",
        "        x, y = int(x), int(y)\n",
        "        return M[x, y]\n",
        "    if np.abs(np.floor(x) - x) < np.abs(np.ceil(x) - x):\n",
        "        x = int(np.floor(x))\n",
        "    else:\n",
        "        x = int(np.ceil(x))\n",
        "    if np.abs(np.floor(y) - y) < np.abs(np.ceil(y) - y):\n",
        "        y = int(np.floor(y))\n",
        "    else:\n",
        "        y = int(np.ceil(y))\n",
        "    if x > x_max:\n",
        "        x = x_max\n",
        "    if y > y_max:\n",
        "        y = y_max\n",
        "    return M[x, y,]\n",
        "\n",
        "img_nn = np.empty((2000, 2000, 4), dtype=np.uint8)\n",
        "for i, row in enumerate(img_transformed):\n",
        "    for j, col in enumerate(row):\n",
        "        img_nn[i, j, :] = nearest_neighbors(i, j, img, T_inv)\n",
        "\n",
        "plt.figure(figsize=(5, 5))\n",
        "plt.imshow(img_nn)"
      ],
      "execution_count": null,
      "outputs": []
    },
    {
      "cell_type": "markdown",
      "metadata": {
        "id": "gkFIqxCgt29i"
      },
      "source": [
        "Not too shabby right?\n",
        "\n",
        "I should note that in most cases the nearest neighbor method will not be sufficient. There are two other more common interpolation methods known as bilinear and bicubic interpolation that generally provide much better results.  I will speak more about these other interpolation algorithms when introducing the Pillow and OpenCV libraries in latter sections. The purpose of this section is just to build an intuitive understanding of how things work."
      ]
    },
    {
      "cell_type": "markdown",
      "metadata": {
        "id": "ZDY3nfwot29j"
      },
      "source": [
        "### Affine Transformations with Pillow\n",
        "\n",
        "In this section I will be briefly covering how to use the excellent Python image processing library Pillow to perform affine transformations.\n",
        "\n",
        "First off Pillow will need to be installed. I used pip to accomplish this like so.\n",
        "\n",
        "```sh\n",
        "pip install pillow\n",
        "```\n",
        "\n",
        "Now first step is to import the Image class from the PIL (PIL is the name of the python module associated with Pillow) module and read in my image."
      ]
    },
    {
      "cell_type": "code",
      "metadata": {
        "id": "4MwzQJkAt29j"
      },
      "source": [
        "from PIL import Image"
      ],
      "execution_count": null,
      "outputs": []
    },
    {
      "cell_type": "markdown",
      "metadata": {
        "id": "6_Os6em8t29j"
      },
      "source": [
        "To read in the sample image file name \"letterR.jpg\" I call the class method `Image.open(...)` passing it the filename which returns an instance of the `Image` class which I then convert to a numpy array and display with matplotlib."
      ]
    },
    {
      "cell_type": "code",
      "metadata": {
        "id": "_HX2asdst29j"
      },
      "source": [
        "img = Image.open('letterR.jpg')\n",
        "plt.figure(figsize=(5, 5))\n",
        "plt.imshow(np.asarray(img))"
      ],
      "execution_count": null,
      "outputs": []
    },
    {
      "cell_type": "markdown",
      "metadata": {
        "id": "-jCQoVIht29k"
      },
      "source": [
        "The Pillow `Image` class has a handy method called `transform(...)` that allows you to perform fine grained affine transformations but, there are a few oddities that I must discuss first before I jump into a demonstration of it. The `transform(...)` method begins with two required parameters representing `size` as a tuple of height and width followed by the `method` of transformation to be applied which will be `Image.AFFINE` in this case.\n",
        "\n",
        "The remaining parameters are optional keyword arguments that control how the transformation is to be performed. In the case of this example I will be using the `data` parameter which takes the first two rows of an affine transformation matrix.\n",
        "\n",
        "For example, the 2x scaling transformation matrix I've been working with trimmed down to just the first two rows looks like this.\n",
        "\n",
        "$$\n",
        "        T_s = \\begin{bmatrix}\n",
        "                2 & 0 & 0 \\\\ \n",
        "                0 & 2 & 0\n",
        "                \\end{bmatrix}\n",
        "$$\n",
        "\n",
        "The last parameter that I will be using with the `transform(...)` method is `resample` which is used to indicate the type of pixel interpolation algorithm to apply out of the possible choices of `Image.NEAREST` (nearest neighbor), `Image.BILINEAR`, or `Image.BICUBIC`. This choice will often vary depending on the transformation being applied. However, bilinear and bicubic generally give better results than nearest neighbor but, as already demonstrated in this example nearest neighbor works quite well.\n",
        "\n",
        "There are a few peculiarities that served as real gotchas for me the first time I used the `Image.transform(...)` method particularly around the construction of the affine transformation matrix with the weirdly truncated off last row.  Thus, I'd like to spend some time going over why things work the way they do because its a bit of a process.\n",
        "\n",
        "First thing that must happen is the image must be translated so that the origin (0, 0) is in the middle of the image. In the case of the 1000 x 1000 image of the letter R in this example that means a translation of -500 in the x and y.\n",
        "\n",
        "Below I show the generic translation transformation matrix $T_translate$ and the one I'll be using in the example $T_{neg500}$.\n",
        "\n",
        "$$\n",
        "        T_{translate} = \\begin{bmatrix}\n",
        "                1 & 0 & t_x \\\\ \n",
        "                0 & 1 & t_y \\\\\n",
        "                0 & 0 & 1\n",
        "                \\end{bmatrix}\n",
        "$$\n",
        "\n",
        "$$\n",
        "        T_{neg500} = \\begin{bmatrix}\n",
        "                1 & 0 & -500 \\\\ \n",
        "                0 & 1 & -500 \\\\\n",
        "                0 & 0 & 1\n",
        "                \\end{bmatrix}       \n",
        "$$\n",
        "\n",
        "Then there are the 2X scaling $T_scale$ and 90 degree rotation $T_rotate$ matrices from before. However, the Pillow library actually decided to use standard geometric angles (ie, counter clockwise) rather than the clockwise rotations I described earlier so the signs on the of the sin functions flip. Below are the resultant individual transformation matrices.\n",
        "\n",
        "$$\n",
        "        T_{rotate} = \\begin{bmatrix}\n",
        "                0 & -1 & 0 \\\\ \n",
        "                1 & 0 & 0 \\\\\n",
        "                0 & 0 & 1\n",
        "                \\end{bmatrix}       \n",
        "$$\n",
        "\n",
        "$$\n",
        "        T_{scale} = \\begin{bmatrix}\n",
        "                2 & 0 & 0 \\\\ \n",
        "                0 & 2 & 0 \\\\\n",
        "                0 & 0 & 1\n",
        "                \\end{bmatrix}\n",
        "$$\n",
        "\n",
        "Next another translation matrix needs to be applied which acts to reposition the spatial domain of the pixels essentially negating the first one that centered the origin.  In this case I need a positive translation of 1000 in the x and y where 1000 comes from twice the original because it has been scaled up by two.\n",
        "\n",
        "$$\n",
        "        T_{pos1000} = \\begin{bmatrix}\n",
        "                1 & 0 & 1000 \\\\ \n",
        "                0 & 1 & 1000 \\\\\n",
        "                0 & 0 & 1\n",
        "                \\end{bmatrix}       \n",
        "$$\n",
        "\n",
        "These constitute the individual transformation steps that are required so, all that remains is to multiply the matrices in order (ie, right to left) like so.\n",
        "\n",
        "$$\n",
        "    T =         T_{pos1000} * T_{rotate} * T_{scale} * T_{neg500} \n",
        "$$\n",
        "\n",
        "Ok, so there is actually one last oddity. The `Image.transform(...)` method actually requires the inverse of the transformation matrix be supplied to the `data` parameter as a flattened array (or tuple) excluding the last row.\n",
        "\n",
        "$$\n",
        "    T_{inv} = T^{-1}\n",
        "$$\n",
        "\n",
        "In code this all works as follows."
      ]
    },
    {
      "cell_type": "code",
      "metadata": {
        "id": "Og0_4JUct29k"
      },
      "source": [
        "\n",
        "# recenter resultant image\n",
        "T_pos1000 = np.array([\n",
        "    [1, 0, 1000],\n",
        "    [0, 1, 1000],\n",
        "    [0, 0, 1]])\n",
        "# rotate - opposite angle\n",
        "T_rotate = np.array([\n",
        "    [0, -1, 0],\n",
        "    [1, 0, 0],\n",
        "    [0, 0, 1]])\n",
        "# scale\n",
        "T_scale = np.array([\n",
        "    [2, 0, 0],\n",
        "    [0, 2, 0],\n",
        "    [0, 0, 1]])\n",
        "# center original to 0,0\n",
        "T_neg500 = np.array([\n",
        "    [1, 0, -500],\n",
        "    [0, 1, -500],\n",
        "    [0, 0, 1]])\n",
        "T = T_pos1000 @ T_rotate @ T_scale @ T_neg500\n",
        "T_inv = np.linalg.inv(T)"
      ],
      "execution_count": null,
      "outputs": []
    },
    {
      "cell_type": "code",
      "metadata": {
        "id": "nmUz20Vrt29k"
      },
      "source": [
        "img_transformed = img.transform((2000, 2000), Image.AFFINE, data=T_inv.flatten()[:6], resample=Image.NEAREST)\n",
        "plt.imshow(np.asarray(img_transformed))"
      ],
      "execution_count": null,
      "outputs": []
    },
    {
      "cell_type": "markdown",
      "metadata": {
        "id": "O8aD9xVbt29k"
      },
      "source": [
        "### Affine Transformations with OpenCV2\n",
        "\n",
        "Continuing on I would like to briefly describe how to carry out these affine transformations with the popular image processing and computer vision library OpenCV. I use the word brief here because it is largely the same as what is required in the previous description of using Pillow.\n",
        "\n",
        "First things first you must install like so.\n",
        "\n",
        "```sh\n",
        "pip install opencv-python\n",
        "```\n",
        "\n",
        "As I mentioned above there is significant overlap in methodology between the Pillow approach and using OpenCV. For example, you still create a transformation matrix that first centers then uncenters the array of pixels to and from the origin and, you only use the first two rows of the transformation matrix. The major difference is that with OpenCV you give it the standard matrix rather than the inverse.\n",
        "\n",
        "So, with that understanding laid out I will jump into the code starting with importing the opencv-python module which is named `cv2`."
      ]
    },
    {
      "cell_type": "code",
      "metadata": {
        "id": "Rd-6wYO0t29l"
      },
      "source": [
        "import cv2"
      ],
      "execution_count": null,
      "outputs": []
    },
    {
      "cell_type": "markdown",
      "metadata": {
        "id": "d1qyezLSt29l"
      },
      "source": [
        "To read in the image is as simple as calling the `cv2.imread(...)` method passing the filename as an argument. This returns the image data in to form of a 3D numpy array similar to how matplotlib works but, the pixel data in the 3rd dimension is comprised of an array of channels in the order of blue, green, red instead of red, green, blue, alpha as was in the case of reading with matplotlib.\n",
        "\n",
        "Thus, in order to plot the numpy image data originating from the OpenCV library one must reverse the order of the pixel channels. Luckily, OpenCV provides a convince method `cvtColor(...)` that can be used to do this as shown below (although numpy purists are likely to know that `img[:,:,::-1]` will do the same)."
      ]
    },
    {
      "cell_type": "code",
      "metadata": {
        "id": "OY0ZIM8bt29l"
      },
      "source": [
        "img = cv2.imread('letterR.jpg')\n",
        "plt.imshow(cv2.cvtColor(img, cv2.COLOR_BGR2RGB))"
      ],
      "execution_count": null,
      "outputs": []
    },
    {
      "cell_type": "markdown",
      "metadata": {
        "id": "wZog9Biet29l"
      },
      "source": [
        "A few last items to mention are that OpenCV requires the data in the transformation matrix to be of type 32 bit float rather than the default 64 bit float so, be sure to convert down to 32 bit with `numpy.float32(...)`. Also, the API to `cv2.warpAffine(...)` does not provide the ability to specify what type of pixel interpolation algorithm to apply I could not determine from the docs what is used. If you know or find out please post in the comments below."
      ]
    },
    {
      "cell_type": "code",
      "metadata": {
        "id": "jp1qYTXBt29l"
      },
      "source": [
        "T_opencv = np.float32(T.flatten()[:6].reshape(2,3))\n",
        "img_transformed = cv2.warpAffine(img, T_opencv, (2000, 2000))\n",
        "plt.imshow(cv2.cvtColor(img_transformed, cv2.COLOR_BGR2RGB))"
      ],
      "execution_count": null,
      "outputs": []
    },
    {
      "cell_type": "markdown",
      "metadata": {
        "id": "NJvPBqGrt29m"
      },
      "source": [
        "### Conclusion\n",
        "\n",
        "In this article I have covered what an affine transformation is and how it can be applied to image processing using Python. Pure numpy and matplotlib was used to give a low level intuitive description of how affine transformations work then I went on to demonstrate how the same can be done using two popular Python libraries Pillow and OpenCV.\n",
        "\n",
        "Thanks for reading and as always don't be shy about commenting or critiquing below."
      ]
    }
  ]
}